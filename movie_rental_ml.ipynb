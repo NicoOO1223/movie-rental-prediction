{
 "cells": [
  {
   "cell_type": "code",
   "execution_count": null,
   "id": "eb3e3c81",
   "metadata": {},
   "outputs": [],
   "source": [
    "import pandas as pd\n",
    "import numpy as np\n",
    "\n",
    "from sklearn.model_selection import train_test_split\n",
    "from sklearn.metrics import mean_squared_error, make_scorer\n",
    "\n",
    "# Import any additional modules and start coding below\n",
    "data = pd.read_csv('rental_info.csv')\n",
    "\n",
    "data['rental_length_days'] = (pd.to_datetime(data['return_date']) - pd.to_datetime(data['rental_date'])).dt.days\n",
    "\n",
    "data['deleted_scenes'] = data['special_features'].apply(lambda x: int('Deleted Scenes' in x))\n",
    "data['behind_the_scenes'] = data['special_features'].apply(lambda x: int('Behind the Scenes' in x))\n",
    "\n",
    "features_to_keep = ['release_year', 'amount', 'rental_rate', 'length', 'replacement_cost', 'deleted_scenes', 'behind_the_scenes', 'NC-17', 'PG', 'PG-13', 'R']\n",
    "\n",
    "X = data.drop([\"rental_date\", 'return_date', 'rental_length_days', \"special_features\"], axis=1)\n",
    "print(X.columns)\n",
    "y = data['rental_length_days']\n"
   ]
  },
  {
   "cell_type": "code",
   "execution_count": null,
   "id": "8976d6c6",
   "metadata": {},
   "outputs": [],
   "source": [
    "from sklearn.linear_model import LinearRegression, Lasso\n",
    "from sklearn.ensemble import RandomForestRegressor\n",
    "from sklearn.tree import DecisionTreeRegressor\n",
    "from sklearn.model_selection import RandomizedSearchCV\n",
    "\n",
    "\n",
    "X_train, X_test, y_train, y_test = train_test_split(X, y, test_size=0.2, random_state=9)\n",
    "\n",
    "\n",
    "lasso = Lasso(alpha = 0.05, random_state = 9)\n",
    "lasso.fit(X_train, y_train)\n",
    "y_pred = lasso.predict(X_test)\n",
    "mse = mean_squared_error(y_pred, y_test)\n",
    "print(lasso.coef_)\n",
    "\n",
    "coeffs = lasso.coef_\n",
    "mask = np.abs(coeffs) > 0\n",
    "selected_features = X.columns[mask]\n",
    "print(f'Selected features: {selected_features}')\n",
    "\n"
   ]
  },
  {
   "cell_type": "code",
   "execution_count": null,
   "id": "b9ab8c17",
   "metadata": {},
   "outputs": [],
   "source": [
    "best_model = RandomForestRegressor(random_state=9, n_estimators = 200, min_samples_split = 2, min_samples_leaf=1, max_depth=20)\n",
    "best_model.fit(X_train, y_train)\n",
    "y_pred = best_model.predict(X_test)\n",
    "best_mse = mean_squared_error(y_pred, y_test)\n",
    "\n",
    "\n"
   ]
  }
 ],
 "metadata": {
  "language_info": {
   "name": "python"
  }
 },
 "nbformat": 4,
 "nbformat_minor": 5
}
